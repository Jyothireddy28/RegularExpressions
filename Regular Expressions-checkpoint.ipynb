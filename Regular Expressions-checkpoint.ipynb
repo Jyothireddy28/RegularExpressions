{
 "cells": [
  {
   "cell_type": "code",
   "execution_count": 1,
   "id": "2eeba88c-972b-4f58-a944-212981c8e8d0",
   "metadata": {},
   "outputs": [
    {
     "name": "stdout",
     "output_type": "stream",
     "text": [
      "No match\n"
     ]
    }
   ],
   "source": [
    "import re\n",
    "txt=\"the rain in AP\"\n",
    "x=re.search(\"^The.*AP$\",txt)\n",
    "if (x):\n",
    "   print(\"YES!We have a match!\")\n",
    "else:\n",
    "   print(\"No match\")"
   ]
  },
  {
   "cell_type": "code",
   "execution_count": 2,
   "id": "02b3c17f-7e18-4117-a015-fb4714c67add",
   "metadata": {},
   "outputs": [
    {
     "name": "stdout",
     "output_type": "stream",
     "text": [
      "['ai', 'ai']\n"
     ]
    }
   ],
   "source": [
    "import re\n",
    "str=\"The rain is gain\"\n",
    "x=re.findall(\"ai\",str)\n",
    "print(x)"
   ]
  },
  {
   "cell_type": "code",
   "execution_count": 3,
   "id": "1e694d57-231a-4c4b-b204-37fbe4dab5c4",
   "metadata": {},
   "outputs": [
    {
     "name": "stdout",
     "output_type": "stream",
     "text": [
      "The first white-space character is located in position: 3\n"
     ]
    }
   ],
   "source": [
    "import re\n",
    "str=\"The rain is gain\"\n",
    "x=re.search(r\"\\s\",str)\n",
    "print(\"The first white-space character is located in position:\",x.start())"
   ]
  },
  {
   "cell_type": "code",
   "execution_count": 4,
   "id": "8da07ab2-ea50-4a98-8266-57dba47b6142",
   "metadata": {},
   "outputs": [
    {
     "name": "stdout",
     "output_type": "stream",
     "text": [
      "['The', 'rain', 'is', 'gain']\n"
     ]
    }
   ],
   "source": [
    "import re\n",
    "str=\"The rain is gain\"\n",
    "x=re.split(r\"\\s\",str)\n",
    "print(x)"
   ]
  },
  {
   "cell_type": "code",
   "execution_count": 5,
   "id": "b43c5926-89d2-4aa4-bb72-ffb9765773df",
   "metadata": {},
   "outputs": [
    {
     "name": "stdout",
     "output_type": "stream",
     "text": [
      "['The', 'rain', 'is gain in all seasons']\n"
     ]
    }
   ],
   "source": [
    "import re\n",
    "str=\"The rain is gain in all seasons\"\n",
    "x=re.split(r\"\\s\",str,2)\n",
    "print(x)"
   ]
  },
  {
   "cell_type": "code",
   "execution_count": 6,
   "id": "0f3005bc-b26d-4d64-9864-1de798d6c99f",
   "metadata": {},
   "outputs": [
    {
     "name": "stdout",
     "output_type": "stream",
     "text": [
      "The-rain-in-spain\n"
     ]
    }
   ],
   "source": [
    "import re\n",
    "str=\"The rain in spain\"\n",
    "x=re.sub(r\"\\s\",\"-\",str)\n",
    "print(x)"
   ]
  },
  {
   "cell_type": "code",
   "execution_count": 7,
   "id": "5b41b6c0-8432-4d87-acd6-6642034088c2",
   "metadata": {},
   "outputs": [
    {
     "name": "stdout",
     "output_type": "stream",
     "text": [
      "The-rain-is gain\n"
     ]
    }
   ],
   "source": [
    "import re\n",
    "str=\"The rain is gain\"\n",
    "x=re.sub(r\"\\s\",\"-\",str,2)\n",
    "print(x)"
   ]
  },
  {
   "cell_type": "code",
   "execution_count": 9,
   "id": "7a2a966a-f7cb-4d34-89d9-68d986ce7f2a",
   "metadata": {},
   "outputs": [
    {
     "name": "stdout",
     "output_type": "stream",
     "text": [
      "<re.Match object; span=(5, 7), match='ai'>\n",
      "<re.Match object; span=(5, 7), match='ai'>\n"
     ]
    }
   ],
   "source": [
    "import re\n",
    "str=\"The rain is gain\"\n",
    "x=re.search(\"ai\",str)\n",
    "print(x)\n",
    "str=\"The rain is gain\"\n",
    "x=re.search(\"ai\",str)\n",
    "print(x)"
   ]
  },
  {
   "cell_type": "code",
   "execution_count": 12,
   "id": "fcb4e7bf-181b-421c-9151-c70e6ef37dfc",
   "metadata": {},
   "outputs": [
    {
     "name": "stdout",
     "output_type": "stream",
     "text": [
      "(12, 18)\n"
     ]
    }
   ],
   "source": [
    "import re\n",
    "str=\"The rain in Andhra\"\n",
    "x=re.search(r\"\\bA\\w+\",str)\n",
    "print(x.span())"
   ]
  },
  {
   "cell_type": "code",
   "execution_count": 13,
   "id": "17f9ddab-88a2-4cbd-bccd-194127c9c6cc",
   "metadata": {},
   "outputs": [
    {
     "name": "stdout",
     "output_type": "stream",
     "text": [
      "ANdhra\n"
     ]
    }
   ],
   "source": [
    "import re\n",
    "str=\"The rain in ANdhra\"\n",
    "x=re.search(r\"\\bAN\\w+\",str)\n",
    "print(x.group())"
   ]
  },
  {
   "cell_type": "code",
   "execution_count": 14,
   "id": "cc6b2741-53e2-4049-b424-9e21389b3604",
   "metadata": {},
   "outputs": [
    {
     "name": "stdin",
     "output_type": "stream",
     "text": [
      "enter a word ramesh\n",
      "enter a word is playing cricekt\n"
     ]
    },
    {
     "name": "stdout",
     "output_type": "stream",
     "text": [
      "rameshis playing cricekt\n"
     ]
    }
   ],
   "source": [
    "n1=input(\"enter a word\")\n",
    "n2=input(\"enter a word\")\n",
    "m=n1+n2\n",
    "print(m)"
   ]
  },
  {
   "cell_type": "code",
   "execution_count": null,
   "id": "0fbe1aa8-ff36-4d5c-9371-6a83e50d2acb",
   "metadata": {},
   "outputs": [],
   "source": []
  }
 ],
 "metadata": {
  "kernelspec": {
   "display_name": "Python 3 (ipykernel)",
   "language": "python",
   "name": "python3"
  },
  "language_info": {
   "codemirror_mode": {
    "name": "ipython",
    "version": 3
   },
   "file_extension": ".py",
   "mimetype": "text/x-python",
   "name": "python",
   "nbconvert_exporter": "python",
   "pygments_lexer": "ipython3",
   "version": "3.12.7"
  }
 },
 "nbformat": 4,
 "nbformat_minor": 5
}
